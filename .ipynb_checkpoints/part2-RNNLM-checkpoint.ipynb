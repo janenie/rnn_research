{
 "cells": [
  {
   "cell_type": "markdown",
   "metadata": {},
   "source": [
    "# CS 224D Assignment #2\n",
    "# Part [2]: Recurrent Neural Networks\n",
    "\n",
    "This notebook will provide starter code, testing snippets, and additional guidance for implementing the Recurrent Neural Network Language Model (RNNLM) described in Part 2 of the handout.\n",
    "\n",
    "Please complete parts (a), (b), and (c) of Part 2 before beginning this notebook."
   ]
  },
  {
   "cell_type": "code",
   "execution_count": 9,
   "metadata": {
    "collapsed": false
   },
   "outputs": [
    {
     "name": "stdout",
     "output_type": "stream",
     "text": [
      "The autoreload extension is already loaded. To reload it, use:\n",
      "  %reload_ext autoreload\n"
     ]
    }
   ],
   "source": [
    "import sys, os\n",
    "from numpy import *\n",
    "from matplotlib.pyplot import *\n",
    "%matplotlib inline\n",
    "matplotlib.rcParams['savefig.dpi'] = 100\n",
    "\n",
    "%load_ext autoreload\n",
    "%autoreload 2"
   ]
  },
  {
   "cell_type": "markdown",
   "metadata": {},
   "source": [
    "## (e): Implement a Recurrent Neural Network Language Model\n",
    "\n",
    "Follow the instructions on the handout to implement your model in `rnnlm.py`, then use the code below to test."
   ]
  },
  {
   "cell_type": "code",
   "execution_count": 2,
   "metadata": {
    "collapsed": false
   },
   "outputs": [
    {
     "name": "stderr",
     "output_type": "stream",
     "text": [
      "NOTE: temporarily setting self.bptt = len(y) = 3 to compute true gradient.\n",
      "grad_check: dJ/dH error norm = 3.117e-09 [ok]\n",
      "    H dims: [50, 50] = 2500 elem\n",
      "grad_check: dJ/dU error norm = 5.39e-10 [ok]\n",
      "    U dims: [10, 50] = 500 elem\n",
      "grad_check: dJ/dL[1] error norm = 1.126e-09 [ok]\n",
      "    L[1] dims: [50] = 50 elem\n",
      "grad_check: dJ/dL[2] error norm = 1.01e-09 [ok]\n",
      "    L[2] dims: [50] = 50 elem\n",
      "grad_check: dJ/dL[3] error norm = 1.164e-09 [ok]\n",
      "    L[3] dims: [50] = 50 elem\n",
      "Reset self.bptt = 4\n"
     ]
    }
   ],
   "source": [
    "from rnnlm import RNNLM\n",
    "# Gradient check on toy data, for speed\n",
    "random.seed(10)\n",
    "wv_dummy = random.randn(10,50)\n",
    "model = RNNLM(L0 = wv_dummy, U0 = wv_dummy,\n",
    "              alpha=0.005, rseed=10, bptt=4)\n",
    "model.grad_check(array([1,2,3]), array([2,3,4]))"
   ]
  },
  {
   "cell_type": "code",
   "execution_count": 10,
   "metadata": {
    "collapsed": false
   },
   "outputs": [
    {
     "name": "stderr",
     "output_type": "stream",
     "text": [
      "NOTE: temporarily setting self.bptt = len(y) = 3 to compute true gradient.\n",
      "grad_check: dJ/dH error norm = 4.921e-10 [ok]\n",
      "    H dims: [50, 50] = 2500 elem\n",
      "grad_check: dJ/dC error norm = 3.493e-09 [ok]\n",
      "    C dims: [30, 50] = 1500 elem\n",
      "grad_check: dJ/dU error norm = 6.594e-10 [ok]\n",
      "    U dims: [12, 30] = 360 elem\n",
      "grad_check: dJ/dL[1] error norm = 3.311e-10 [ok]\n",
      "    L[1] dims: [50] = 50 elem\n",
      "grad_check: dJ/dL[2] error norm = 1.088e-10 [ok]\n",
      "    L[2] dims: [50] = 50 elem\n",
      "grad_check: dJ/dL[3] error norm = 1.887e-10 [ok]\n",
      "    L[3] dims: [50] = 50 elem\n",
      "Reset self.bptt = 3\n"
     ]
    }
   ],
   "source": [
    "from rnnlm import ExtraCreditRNNLM\n",
    "random.seed(10)\n",
    "wv_dummy = random.randn(10, 50)\n",
    "u0 = random.randn(12, 30)\n",
    "c_words = array([[0, 1, 2, -1, -1, -1, -1], [3, 4, 5, 6, 7, 8, 9]])\n",
    "lcluster = array([0, 0, 0, 1, 1, 1, 1, 1, 1, 1])\n",
    "args = {\"isME\": True, \"ngram\": 3, \"hash_size\": 10000000, \"bptt\": 3, \"alpha\": 0.005, \"rseed\": 10, \"isCompression\":True, \"compression_size\": 30, \"class_size\": 2, \"U0\": u0, \"Lcluster\": lcluster, \"cfreq\": array([3, 7]), \"cwords\": c_words}\n",
    "\n",
    "model = ExtraCreditRNNLM(L0=wv_dummy, **args)\n",
    "model.grad_check(array([1,2,3]), array([2,3,4]))"
   ]
  },
  {
   "cell_type": "markdown",
   "metadata": {},
   "source": [
    "## Prepare Vocabulary and Load PTB Data\n",
    "\n",
    "We've pre-prepared a list of the vocabulary in the Penn Treebank, along with their absolute counts and unigram frequencies. The document loader code below will \"canonicalize\" words and replace any unknowns with a `\"UUUNKKK\"` token, then convert the data to lists of indices."
   ]
  },
  {
   "cell_type": "code",
   "execution_count": 11,
   "metadata": {
    "collapsed": false
   },
   "outputs": [
    {
     "name": "stdout",
     "output_type": "stream",
     "text": [
      "Retained 2000 words from 38444 (84.00% of all tokens)\n",
      "2000\n"
     ]
    }
   ],
   "source": [
    "from data_utils import utils as du\n",
    "import pandas as pd\n",
    "\n",
    "# Load the vocabulary\n",
    "vocab = pd.read_table(\"data/lm/vocab.ptb.txt\", header=None, sep=\"\\s+\",\n",
    "                     index_col=0, names=['count', 'freq'], )\n",
    "\n",
    "# Choose how many top words to keep            \n",
    "vocabsize = 2000\n",
    "num_to_word = dict(enumerate(vocab.index[:vocabsize]))\n",
    "word_to_num = du.invert_dict(num_to_word)\n",
    "##\n",
    "# Below needed for 'adj_loss': DO NOT CHANGE\n",
    "fraction_lost = float(sum([vocab['count'][word] for word in vocab.index\n",
    "                           if (not word in word_to_num) \n",
    "                               and (not word == \"UUUNKKK\")]))\n",
    "fraction_lost /= sum([vocab['count'][word] for word in vocab.index\n",
    "                      if (not word == \"UUUNKKK\")])\n",
    "print \"Retained %d words from %d (%.02f%% of all tokens)\" % (vocabsize, len(vocab),\n",
    "                                                             100*(1-fraction_lost))\n",
    "def getVocabClass(csize = 10, v=vocab, vs=vocabsize):\n",
    "    freq_percent = 0.0\n",
    "    start = 0\n",
    "    lcluster = []\n",
    "    freq_c = zeros(csize)\n",
    "    freq_sum = vocab['count'][:vs].sum()\n",
    "    #sqrt_sum = sqrt(sum([float(vocab['count'][i])/(freq_sum+0.0) for i in xrange(vs)]))\n",
    "    for i in xrange(vocabsize):\n",
    "        freq_percent += float(vocab['count'][i]) / (freq_sum + 0.0)\n",
    "        #freq_percent += sqrt(float(vocab['count'][i]) / (freq_sum + 0.0))/sqrt_sum\n",
    "        if freq_percent > 1:\n",
    "            freq_percent = 1\n",
    "        if freq_percent > (start + 1.0) / (csize + 0.0):\n",
    "            lcluster.append(start)\n",
    "            freq_c[start] += 1\n",
    "            if start < csize-1:\n",
    "                start += 1\n",
    "        else:\n",
    "            lcluster.append(start)\n",
    "            freq_c[start] += 1\n",
    "    \n",
    "    freq_words = zeros((csize, int(amax(freq_c)+1)))\n",
    "    start = 0\n",
    "    for i in xrange(csize):\n",
    "        #print freq_c[i]\n",
    "        for j in xrange(int(freq_c[i])):\n",
    "            freq_words[i,j] = start\n",
    "            start += 1 \n",
    "        #print freq_words[i, :int(freq_c[i])]\n",
    "    print len(lcluster)\n",
    "    return array(lcluster), freq_c, freq_words\n",
    "\n",
    "lcluster, freq_c, freq_words = getVocabClass()\n",
    "\n"
   ]
  },
  {
   "cell_type": "markdown",
   "metadata": {},
   "source": [
    "Load the datasets, using the vocabulary in `word_to_num`. Our starter code handles this for you, and also generates lists of lists X and Y, corresponding to input words and target words*. \n",
    "\n",
    "*(Of course, the target words are just the input words, shifted by one position, but it can be cleaner and less error-prone to keep them separate.)*"
   ]
  },
  {
   "cell_type": "code",
   "execution_count": 12,
   "metadata": {
    "collapsed": false
   },
   "outputs": [
    {
     "name": "stdout",
     "output_type": "stream",
     "text": [
      "Big investment banks refused to step up to the plate to support the beleaguered floor traders by buying big blocks of stock , traders say .\n",
      "[   4  147  169  250 1879    7 1224   64    7    1    3    7  456    1    3\n",
      " 1024  255   24  378  147    3    6   67    0  255  138    2    5]\n"
     ]
    }
   ],
   "source": [
    "# Load the training set\n",
    "docs = du.load_dataset('data/lm/ptb-train.txt')\n",
    "S_train = du.docs_to_indices(docs, word_to_num)\n",
    "X_train, Y_train = du.seqs_to_lmXY(S_train)\n",
    "\n",
    "# Load the dev set (for tuning hyperparameters)\n",
    "docs = du.load_dataset('data/lm/ptb-dev.txt')\n",
    "S_dev = du.docs_to_indices(docs, word_to_num)\n",
    "X_dev, Y_dev = du.seqs_to_lmXY(S_dev)\n",
    "\n",
    "# Load the test set (final evaluation only)\n",
    "docs = du.load_dataset('data/lm/ptb-test.txt')\n",
    "S_test = du.docs_to_indices(docs, word_to_num)\n",
    "X_test, Y_test = du.seqs_to_lmXY(S_test)\n",
    "\n",
    "# Display some sample data\n",
    "print \" \".join(d[0] for d in docs[7])\n",
    "print S_test[7]"
   ]
  },
  {
   "cell_type": "markdown",
   "metadata": {},
   "source": [
    "## (f): Train and evaluate your model\n",
    "\n",
    "When you're able to pass the gradient check, let's run our model on some real language!\n",
    "\n",
    "You should randomly initialize the word vectors as Gaussian noise, i.e. $L_{ij} \\sim \\mathit{N}(0,0.1)$ and $U_{ij} \\sim \\mathit{N}(0,0.1)$; the function `random.randn` may be helpful here.\n",
    "\n",
    "As in Part 1, you should tune hyperparameters to get a good model."
   ]
  },
  {
   "cell_type": "code",
   "execution_count": 13,
   "metadata": {
    "collapsed": false
   },
   "outputs": [
    {
     "name": "stderr",
     "output_type": "stream",
     "text": [
      "NOTE: temporarily setting self.bptt = len(y) = 3 to compute true gradient.\n",
      "grad_check: dJ/dH error norm = 7.657e-10 [ok]\n",
      "    H dims: [100, 100] = 10000 elem\n",
      "grad_check: dJ/dU error norm = 1.764e-09 [ok]\n",
      "    U dims: [2010, 100] = 201000 elem\n",
      "grad_check: dJ/dL[1] error norm = 2.844e-10 [ok]\n",
      "    L[1] dims: [100] = 100 elem\n",
      "grad_check: dJ/dL[2] error norm = 2.048e-10 [ok]\n",
      "    L[2] dims: [100] = 100 elem\n",
      "grad_check: dJ/dL[3] error norm = 2.345e-10 [ok]\n",
      "    L[3] dims: [100] = 100 elem\n",
      "Reset self.bptt = 1\n"
     ]
    }
   ],
   "source": [
    "hdim = 100 # dimension of hidden layer = dimension of word vectors\n",
    "cdim = 50\n",
    "csize = 10\n",
    "random.seed(10)\n",
    "L = zeros((vocabsize, hdim)) # replace with random init, \n",
    "                              # or do in RNNLM.__init__()\n",
    "\n",
    "# test parameters; you probably want to change these\n",
    "sigma = 0.1\n",
    "mu = 0\n",
    "L = random.randn(vocabsize, hdim)*sigma + mu\n",
    "U0 = random.randn(vocabsize+csize, hdim)*sigma + mu \n",
    "\n",
    "args = {\"bptt\": 5, \"alpha\": 0.1, \"rseed\": 10, \"isCompression\":False, \"compression_size\": cdim, \"class_size\": csize, \"U0\": U0, \"Lcluster\": lcluster, \"cfreq\": freq_c, \"cwords\": freq_words}\n",
    "\n",
    "model = ExtraCreditRNNLM(L0=L, **args)\n",
    "\n",
    "# Gradient check is going to take a *long* time here\n",
    "# since it's quadratic-time in the number of parameters.\n",
    "# run at your own risk... (but do check this!)\n",
    "#model.grad_check(array([1,2,3]), array([2,3,4]))"
   ]
  },
  {
   "cell_type": "code",
   "execution_count": 10,
   "metadata": {
    "collapsed": false,
    "scrolled": true
   },
   "outputs": [],
   "source": [
    "#### YOUR CODE HERE ####\n",
    "\n",
    "##\n",
    "# Pare down to a smaller dataset, for speed\n",
    "# (optional - recommended to not do this for your final model)\n",
    "ntrain = len(Y_train)\n",
    "X = X_train[:ntrain]\n",
    "Y = Y_train[:ntrain]\n",
    "\n",
    "sequence = range(ntrain)\n",
    "def minibatches(k = 5, seq=sequence):\n",
    "    num_batches = len(seq) / k\n",
    "    for i in xrange(num_batches):\n",
    "        yield random.choice(seq, k)\n",
    "\n",
    "#ten percent of data for tuning\n",
    "ntrain_small = len(Y_train) / 10\n",
    "X_small = X_train[:ntrain_small]\n",
    "Y_small = Y_train[:ntrain_small]\n",
    "        \n",
    "#model_output = model.train_sgd(X_small, Y_small, idxiter=minibatches(5, range(ntrain_small)), printevery= 300, costevery=1000)\n",
    "\n",
    "\n",
    "\n",
    "\n",
    "#### END YOUR CODE ####"
   ]
  },
  {
   "cell_type": "code",
   "execution_count": 22,
   "metadata": {
    "collapsed": false
   },
   "outputs": [
    {
     "name": "stdout",
     "output_type": "stream",
     "text": [
      "begining tuning the proper bptt\n",
      "Begin SGD...\n",
      "  Seen 0 in 0.00 s\n",
      "  [0]: mean loss 7.6893\n",
      "  Seen 200 in 83.23 s\n",
      "  Seen 400 in 123.33 s\n",
      "  [500]: mean loss 5.0037\n",
      "  Seen 600 in 206.51 s\n",
      "  Seen 800 in 247.07 s\n",
      "  Seen 1000 in 287.79 s\n",
      "  [1000]: mean loss 4.7962\n",
      "  [1130]: mean loss 4.73605\n",
      "SGD complete: 1130 examples in 403.91 seconds.\n",
      "Begin SGD...\n",
      "  Seen 0 in 0.00 s\n",
      "  [0]: mean loss 7.70895\n",
      "  Seen 200 in 88.01 s\n",
      "  Seen 400 in 131.37 s\n",
      "  [500]: mean loss 6.42164\n",
      "  Seen 600 in 217.84 s\n",
      "  Seen 800 in 259.28 s\n",
      "  Seen 1000 in 302.29 s\n",
      "  [1000]: mean loss 5.14403\n",
      "  [1130]: mean loss 4.91755\n",
      "SGD complete: 1130 examples in 417.05 seconds.\n",
      "Begin SGD...\n",
      "  Seen 0 in 0.00 s\n",
      "  [0]: mean loss 7.66984\n",
      "  Seen 200 in 86.46 s\n",
      "  Seen 400 in 129.71 s\n",
      "  [500]: mean loss 5.00425\n",
      "  Seen 600 in 213.09 s\n",
      "  Seen 800 in 254.63 s\n",
      "  Seen 1000 in 296.11 s\n",
      "  [1000]: mean loss 4.82172\n",
      "  [1130]: mean loss 4.82933\n",
      "SGD complete: 1130 examples in 408.33 seconds.\n",
      "Begin SGD...\n",
      "  Seen 0 in 0.00 s\n",
      "  [0]: mean loss 7.6686\n",
      "  Seen 200 in 85.90 s\n",
      "  Seen 400 in 128.85 s\n",
      "  [500]: mean loss 5.29079\n",
      "  Seen 600 in 214.28 s\n",
      "  Seen 800 in 259.08 s\n",
      "  Seen 1000 in 304.50 s\n",
      "  [1000]: mean loss 4.87529\n",
      "  [1130]: mean loss 4.97775\n",
      "SGD complete: 1130 examples in 421.20 seconds.\n",
      "Begin SGD...\n",
      "  Seen 0 in 0.00 s\n",
      "  [0]: mean loss 7.6313\n",
      "  Seen 200 in 96.17 s\n",
      "  Seen 400 in 142.47 s\n",
      "  [500]: mean loss 6.77091\n",
      "  Seen 600 in 233.74 s\n",
      "  Seen 800 in 277.71 s\n",
      "  Seen 1000 in 324.90 s\n",
      "  [1000]: mean loss 4.94892\n",
      "  [1130]: mean loss 4.91385\n",
      "SGD complete: 1130 examples in 440.63 seconds.\n",
      "Endding tuning the proper bptt\n"
     ]
    }
   ],
   "source": [
    "bptts = range(1, 6)\n",
    "optim_bptt = 5\n",
    "loss_best = 10\n",
    "first = True\n",
    "print \"begining tuning the proper bptt\"\n",
    "for i in bptts:\n",
    "    model = RNNLM(L0, U0 = L0, alpha=0.1, rseed=10, bptt=i)\n",
    "    model_output = model.train_sgd(X_small, Y_small, idxiter=minibatches(5, range(ntrain_small)), printevery=200, costevery=500)\n",
    "    \n",
    "    if first:\n",
    "        loss_best = model_output\n",
    "        first = False\n",
    "    else:\n",
    "        if loss_best > model_output:\n",
    "            loss_best = model_output\n",
    "            optim_bptt = i\n",
    "print \"Endding tuning the proper bptt\"\n",
    "    \n",
    "    "
   ]
  },
  {
   "cell_type": "code",
   "execution_count": 19,
   "metadata": {
    "collapsed": false
   },
   "outputs": [
    {
     "name": "stdout",
     "output_type": "stream",
     "text": [
      "Begin SGD...\n",
      "  Seen 0 in 0.00 s\n",
      "  [0]: mean loss 5.57506\n",
      "  Seen 100 in 184.27 s\n",
      "  Seen 200 in 189.28 s\n",
      "  [200]: mean loss 5.57506\n",
      "SGD Interrupted: saw 276 examples in 371.46 seconds.\n"
     ]
    }
   ],
   "source": [
    "model_output = model.train_sgd(X, Y, idxiter=minibatches(5, range(ntrain)), printevery=100, costevery=200)\n",
    "train_loss = model.compute_mean_loss(X, Y)\n",
    "dev_loss = model.compute_mean_loss(X_dev, Y_dev)"
   ]
  },
  {
   "cell_type": "code",
   "execution_count": null,
   "metadata": {
    "collapsed": true
   },
   "outputs": [],
   "source": [
    "print \"the opti bptt is \", optim_bptt\n",
    "hidden_dims = linspace(50, 200, 10)\n",
    "optim_dim = 100\n",
    "loss_best = 10\n",
    "first = True\n",
    "print \"Begining tuning the proper hidden layer\"\n",
    "for i in hidden_dims:\n",
    "    L0 = random.randn(vocabsize, int(i))*sigma + mu\n",
    "    model = RNNLM(L0, U0 = L0, alpha=0.1, rseed=10, bptt=optim_bptt)\n",
    "    model_output = model.train_sgd(X_small, Y_small, idxiter=minibatches(5, range(ntrain_small)), printevery=200, costevery=500)\n",
    "    \n",
    "    if first:\n",
    "        loss_best = model_output\n",
    "        first = False\n",
    "    else:\n",
    "        if loss_best > model_output:\n",
    "            loss_best = model_output\n",
    "            optim_dim = int(i)\n",
    "print \"Ending tuning the proper hidden layer\""
   ]
  },
  {
   "cell_type": "code",
   "execution_count": 9,
   "metadata": {
    "collapsed": false
   },
   "outputs": [
    {
     "name": "stdout",
     "output_type": "stream",
     "text": [
      "Begin SGD...\n",
      "  Seen 0 in 0.00 s\n",
      "  [0]: mean loss 7.5281\n",
      "  Seen 1000 in 659.80 s\n",
      "  Seen 2000 in 889.35 s\n",
      "  Seen 3000 in 1118.35 s\n",
      "  Seen 4000 in 1343.70 s\n",
      "  Seen 5000 in 1570.45 s\n",
      "  [5000]: mean loss 4.42817\n",
      "  Seen 6000 in 2227.53 s\n",
      "  Seen 7000 in 2454.10 s\n",
      "  Seen 8000 in 2684.65 s\n",
      "  Seen 9000 in 2911.24 s\n",
      "  Seen 10000 in 3141.05 s\n",
      "  [10000]: mean loss 4.27154\n",
      "  Seen 11000 in 3800.62 s\n",
      "  [11304]: mean loss 4.2159\n",
      "SGD complete: 11304 examples in 4296.65 seconds.\n"
     ]
    }
   ],
   "source": [
    "## Evaluate cross-entropy loss on the dev set,\n",
    "## then convert to perplexity for your writeup\n",
    "optim_dim = 100\n",
    "optim_bptt = 5\n",
    "L0 = random.randn(vocabsize, optim_dim) * sigma + mu\n",
    "model = RNNLM(L0, U0 = L0, alpha=0.1, rseed=10, bptt=optim_bptt)\n",
    "model_output = model.train_sgd(X, Y, idxiter=minibatches(5, range(ntrain)), printevery=1000, costevery=5000)\n",
    "dev_loss = model.compute_mean_loss(X_dev, Y_dev)"
   ]
  },
  {
   "cell_type": "markdown",
   "metadata": {},
   "source": [
    "The performance of the model is skewed somewhat by the large number of `UUUNKKK` tokens; if these are 1/6 of the dataset, then that's a sizeable fraction that we're just waving our hands at. Naively, our model gets credit for these that's not really deserved; the formula below roughly removes this contribution from the average loss. Don't worry about how it's derived, but do report both scores - it helps us compare across models with different vocabulary sizes."
   ]
  },
  {
   "cell_type": "code",
   "execution_count": 9,
   "metadata": {
    "collapsed": false
   },
   "outputs": [
    {
     "name": "stdout",
     "output_type": "stream",
     "text": [
      "Unadjusted: 385.593\n",
      "Adjusted for missing vocab: 562.188\n"
     ]
    }
   ],
   "source": [
    "## DO NOT CHANGE THIS CELL ##\n",
    "# Report your numbers, after computing dev_loss above.\n",
    "def adjust_loss(loss, funk, q, mode='basic'):\n",
    "    if mode == 'basic':\n",
    "        # remove freebies only: score if had no UUUNKKK\n",
    "        return (loss + funk*log(funk))/(1 - funk)\n",
    "    else:\n",
    "        # remove freebies, replace with best prediction on remaining\n",
    "        return loss + funk*log(funk) - funk*log(q)\n",
    "# q = best unigram frequency from omitted vocab\n",
    "# this is the best expected loss out of that set\n",
    "q = vocab.freq[vocabsize] / sum(vocab.freq[vocabsize:])\n",
    "print \"Unadjusted: %.03f\" % exp(dev_loss)\n",
    "print \"Adjusted for missing vocab: %.03f\" % exp(adjust_loss(dev_loss, fraction_lost, q))"
   ]
  },
  {
   "cell_type": "markdown",
   "metadata": {},
   "source": [
    "### Save Model Parameters"
   ]
  },
  {
   "cell_type": "code",
   "execution_count": 11,
   "metadata": {
    "collapsed": false
   },
   "outputs": [],
   "source": [
    "##\n",
    "# Save to .npy files; should only be a few MB total\n",
    "assert(min(model.sparams.L.shape) <= 100) # don't be too big\n",
    "assert(max(model.sparams.L.shape) <= 5000) # don't be too big\n",
    "save(\"rnnlm.L2.npy\", model.sparams.L)\n",
    "save(\"rnnlm.U2.npy\", model.params.U)\n",
    "save(\"rnnlm.H2.npy\", model.params.H)\n",
    "save(\"rnnlm.C2.npy\", model.params.C)"
   ]
  },
  {
   "cell_type": "markdown",
   "metadata": {},
   "source": [
    "## (g): Generating Data\n",
    "\n",
    "Once you've trained your model to satisfaction, let's use it to generate some sentences!\n",
    "\n",
    "Implement the `generate_sequence` function in `rnnlm.py`, and call it below."
   ]
  },
  {
   "cell_type": "code",
   "execution_count": 15,
   "metadata": {
    "collapsed": false
   },
   "outputs": [
    {
     "name": "stdout",
     "output_type": "stream",
     "text": [
      "117.591262186\n",
      "<s> the mortgage regulatory UUUNKKK no institute in the japan ) acquisition would be buying UUUNKKK -- america on UUUNKKK 's UUUNKKK , '' he added . </s>\n"
     ]
    }
   ],
   "source": [
    "def seq_to_words(seq):\n",
    "    return [num_to_word[s] for s in seq]\n",
    "    \n",
    "seq, J = model.generate_sequence(word_to_num[\"<s>\"], \n",
    "                                 word_to_num[\"</s>\"], \n",
    "                                 maxlen=100)\n",
    "print J\n",
    "# print seq\n",
    "print \" \".join(seq_to_words(seq))"
   ]
  },
  {
   "cell_type": "markdown",
   "metadata": {},
   "source": [
    "**BONUS:** Use the unigram distribution given in the `vocab` table to fill in any `UUUNKKK` tokens in your generated sequences with words that we omitted from the vocabulary. You'll want to use `list(vocab.index)` to get a list of words, and `vocab.freq` to get a list of corresponding frequencies."
   ]
  },
  {
   "cell_type": "code",
   "execution_count": 21,
   "metadata": {
    "collapsed": false
   },
   "outputs": [
    {
     "name": "stdout",
     "output_type": "stream",
     "text": [
      "<s> the mortgage regulatory reform no institute in the japan ) acquisition would be buying DGDGDGDG -- america on damage 's funding , '' he added . </s>\n"
     ]
    }
   ],
   "source": [
    "# Replace UUUNKKK with a random unigram,\n",
    "# drawn from vocab that we skipped\n",
    "from nn.math import MultinomialSampler, multinomial_sample\n",
    "def fill_unknowns(words):\n",
    "    #### YOUR CODE HERE ####\n",
    "    sum_ = sum(vocab.freq)\n",
    "    unigram = vocab.freq / float(sum_)    \n",
    "    ret = words # do nothing; replace this\n",
    "    for i in xrange(len(words)):\n",
    "        if ret[i] == \"UUUNKKK\":\n",
    "            rep = multinomial_sample(unigram)\n",
    "            ret[i] = list(vocab.index)[rep]\n",
    "    \n",
    "\n",
    "    #### END YOUR CODE ####\n",
    "    return ret\n",
    "    \n",
    "print \" \".join(fill_unknowns(seq_to_words(seq)))"
   ]
  },
  {
   "cell_type": "code",
   "execution_count": null,
   "metadata": {
    "collapsed": true
   },
   "outputs": [],
   "source": []
  }
 ],
 "metadata": {
  "kernelspec": {
   "display_name": "Python 2",
   "language": "python",
   "name": "python2"
  },
  "language_info": {
   "codemirror_mode": {
    "name": "ipython",
    "version": 2
   },
   "file_extension": ".py",
   "mimetype": "text/x-python",
   "name": "python",
   "nbconvert_exporter": "python",
   "pygments_lexer": "ipython2",
   "version": "2.7.10"
  }
 },
 "nbformat": 4,
 "nbformat_minor": 0
}
